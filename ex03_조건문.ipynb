{
 "cells": [
  {
   "cell_type": "markdown",
   "id": "29a95ecc",
   "metadata": {},
   "source": [
    "## 조건문\n",
    "- 상황에 따라 프로그램 실행 흐름을 다르게 하는 문법\n",
    "- 키워드 : if, elif, else \n",
    "- 콜론(:)과 들여쓰기(Tab, space bar * 4) ★★★★★"
   ]
  },
  {
   "cell_type": "code",
   "execution_count": 4,
   "id": "118e9f2c",
   "metadata": {},
   "outputs": [
    {
     "name": "stdout",
     "output_type": "stream",
     "text": [
      "갖고 있는 돈을 입력 >> 10000\n",
      "택시를 탄다.\n"
     ]
    }
   ],
   "source": [
    "money = int(input(\"갖고 있는 돈을 입력 >> \"))\n",
    "if money >= 10000 :\n",
    "    print(\"택시를 탄다.\")\n",
    "elif money >= 3000 :\n",
    "    print(\"버스를 탄다.\")\n",
    "else :\n",
    "    print(\"걸어간다.\")\n",
    "    \n",
    "# print(\"나는 아무것도 아닌 프린트문\")"
   ]
  },
  {
   "cell_type": "code",
   "execution_count": 4,
   "id": "b988806a",
   "metadata": {},
   "outputs": [
    {
     "name": "stdout",
     "output_type": "stream",
     "text": [
      "정수 입력 >>10\n",
      "3과 5의 배수가 아닙니다.\n"
     ]
    }
   ],
   "source": [
    "num = int(input(\"정수 입력 >>\"))\n",
    "if num%5 == 0 and num%3 == 0 :\n",
    "    print(\"3 과 5의 배수입니다.\")\n",
    "else :\n",
    "    print(\"3과 5의 배수가 아닙니다.\")\n",
    "#다르게 구현    \n",
    "if num%5 == 0 : \n",
    "    if num%3 == 0 :\n",
    "        print(\"3 과 5의 배수입니다.\")\n",
    "else :\n",
    "    print(\"3과 5의 배수가 아닙니다.\")"
   ]
  },
  {
   "cell_type": "code",
   "execution_count": 7,
   "id": "dbc62261",
   "metadata": {},
   "outputs": [
    {
     "name": "stdout",
     "output_type": "stream",
     "text": [
      "첫 번째 정수 입력 >>1\n",
      "두 번째 정수 입력 >>2\n",
      "두 번째 정수가 큽니다.\n"
     ]
    }
   ],
   "source": [
    "a = int(input(\"첫 번째 정수 입력 >>\"))\n",
    "b = int(input(\"두 번째 정수 입력 >>\"))\n",
    "if a>b :\n",
    "    print(\"첫 번째 정수가 큽니다.\")\n",
    "elif a<b :\n",
    "    print(\"두 번째 정수가 큽니다.\")\n",
    "else :\n",
    "    print(\"두 수가 똑같습니다.\")"
   ]
  },
  {
   "cell_type": "code",
   "execution_count": 11,
   "id": "70fe8c37",
   "metadata": {},
   "outputs": [
    {
     "name": "stdout",
     "output_type": "stream",
     "text": [
      "점수 입력 >> 104\n",
      "점수는 100점까지만 입력 가능합니다.\n"
     ]
    }
   ],
   "source": [
    "score = int(input(\"점수 입력 >> \"))\n",
    "if score > 100 :\n",
    "    print(\"점수는 100점까지만 입력 가능합니다.\")\n",
    "else:\n",
    "    if score >=90 :\n",
    "        grade = \"A\"\n",
    "    elif score >=80 :\n",
    "        grade = \"B\"\n",
    "    elif score >= 70 :\n",
    "        grade = \"C\"\n",
    "    elif score >= 60  :\n",
    "        grade = \"D\"\n",
    "    else :\n",
    "        grade = \"F\"   \n",
    "    print(f\"{score}점은 {grade}학점입니다.\")"
   ]
  },
  {
   "cell_type": "code",
   "execution_count": null,
   "id": "fa279e5b",
   "metadata": {},
   "outputs": [],
   "source": []
  },
  {
   "cell_type": "code",
   "execution_count": null,
   "id": "dd68d698",
   "metadata": {},
   "outputs": [],
   "source": []
  },
  {
   "cell_type": "code",
   "execution_count": null,
   "id": "5eaccf14",
   "metadata": {},
   "outputs": [],
   "source": []
  },
  {
   "cell_type": "code",
   "execution_count": null,
   "id": "ab3ee29e",
   "metadata": {},
   "outputs": [],
   "source": []
  }
 ],
 "metadata": {
  "kernelspec": {
   "display_name": "Python 3 (ipykernel)",
   "language": "python",
   "name": "python3"
  },
  "language_info": {
   "codemirror_mode": {
    "name": "ipython",
    "version": 3
   },
   "file_extension": ".py",
   "mimetype": "text/x-python",
   "name": "python",
   "nbconvert_exporter": "python",
   "pygments_lexer": "ipython3",
   "version": "3.11.4"
  }
 },
 "nbformat": 4,
 "nbformat_minor": 5
}
