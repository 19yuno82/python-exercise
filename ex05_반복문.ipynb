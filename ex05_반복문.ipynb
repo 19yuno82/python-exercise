{
 "cells": [
  {
   "cell_type": "markdown",
   "id": "ceb1bf67",
   "metadata": {},
   "source": [
    "## 반복문(while,for)\n",
    "- 프로그램 내에서 똑같은 명령을 일정 횟수만큰 반복해서 수행하도록 제어하는 명령문"
   ]
  },
  {
   "cell_type": "markdown",
   "id": "5bc4d941",
   "metadata": {},
   "source": [
    "### 01. while 문\n",
    "- break 키워드와 함께 사용\n",
    "- 반복 횟수가 명확하지 않을때 사용"
   ]
  },
  {
   "cell_type": "code",
   "execution_count": 1,
   "id": "2174aac2",
   "metadata": {
    "collapsed": true
   },
   "outputs": [
    {
     "name": "stdout",
     "output_type": "stream",
     "text": [
      "파이썬 최고!\n",
      "파이썬 최고!\n",
      "파이썬 최고!\n",
      "파이썬 최고!\n",
      "파이썬 최고!\n",
      "파이썬 최고!\n",
      "파이썬 최고!\n",
      "파이썬 최고!\n",
      "파이썬 최고!\n",
      "파이썬 최고!\n",
      "파이썬 최고!\n",
      "파이썬 최고!\n",
      "파이썬 최고!\n"
     ]
    }
   ],
   "source": [
    "#while문을 사용해서 파이썬 최고를 13번 출력\n",
    "cnt = 1\n",
    "while cnt < 14 :\n",
    "    print(\"파이썬 최고!\")\n",
    "    cnt += 1"
   ]
  },
  {
   "cell_type": "code",
   "execution_count": 4,
   "id": "93111d9b",
   "metadata": {
    "collapsed": true
   },
   "outputs": [
    {
     "name": "stdout",
     "output_type": "stream",
     "text": [
      "파이썬 최고!\n",
      "파이썬 최고!\n",
      "파이썬 최고!\n",
      "파이썬 최고!\n",
      "파이썬 최고!\n",
      "파이썬 최고!\n",
      "파이썬 최고!\n",
      "파이썬 최고!\n",
      "파이썬 최고!\n",
      "파이썬 최고!\n",
      "파이썬 최고!\n",
      "파이썬 최고!\n",
      "파이썬 최고!\n"
     ]
    }
   ],
   "source": [
    "#break 활용\n",
    "cnt = 1\n",
    "while True :\n",
    "    print(\"파이썬 최고!\")\n",
    "    if cnt == 13 :\n",
    "        break\n",
    "    cnt += 1"
   ]
  },
  {
   "cell_type": "code",
   "execution_count": 8,
   "id": "74e51312",
   "metadata": {},
   "outputs": [
    {
     "name": "stdout",
     "output_type": "stream",
     "text": [
      "첫번째 정수 입력 >> 1\n",
      "두번째 정수 입력 >> 2\n",
      "두 정수의 합 : 3\n",
      "첫번째 정수 입력 >> 3\n",
      "두번째 정수 입력 >> 6\n",
      "두 정수의 합 : 9\n",
      "첫번째 정수 입력 >> 0\n",
      "두번째 정수 입력 >> 0\n",
      "프로그램이 종료되었습니다.\n"
     ]
    }
   ],
   "source": [
    "isTrue = True\n",
    "while isTrue :\n",
    "    num1 = int(input(\"첫번째 정수 입력 >> \"))\n",
    "    num2 = int(input(\"두번째 정수 입력 >> \"))\n",
    "    if num1 == 0 and num2 == 0 :\n",
    "        print(\"프로그램이 종료되었습니다.\")\n",
    "        isTrue = False\n",
    "    else :\n",
    "        print(f\"두 정수의 합 : {num1+num2}\")"
   ]
  },
  {
   "cell_type": "code",
   "execution_count": 15,
   "id": "f8c3d500",
   "metadata": {},
   "outputs": [
    {
     "data": {
      "text/plain": [
       "2"
      ]
     },
     "execution_count": 15,
     "metadata": {},
     "output_type": "execute_result"
    }
   ],
   "source": [
    "import random as rd\n",
    "# 라이브러리 불러오는 다른 방법\n",
    "from random import randint as ri\n",
    "ri(1,10)"
   ]
  },
  {
   "cell_type": "code",
   "execution_count": 10,
   "id": "6c0e7c34",
   "metadata": {},
   "outputs": [
    {
     "name": "stdout",
     "output_type": "stream",
     "text": [
      "숫자를 입력하세요 >>33\n",
      "33보다 작은 수입니다.\n",
      "숫자를 입력하세요 >>27\n",
      "27보다 작은 수입니다.\n",
      "숫자를 입력하세요 >>21\n",
      "21보다 큰 수입니다.\n",
      "숫자를 입력하세요 >>25\n",
      "25보다 작은 수입니다.\n",
      "숫자를 입력하세요 >>24\n",
      "24보다 작은 수입니다.\n",
      "숫자를 입력하세요 >>23\n",
      "정답을 맞추셨습니다.\n"
     ]
    }
   ],
   "source": [
    "answer = rd.randint(1,50)\n",
    "isRight = True\n",
    "while isRight :\n",
    "    num = int(input(\"숫자를 입력하세요 >>\"))\n",
    "    if num > answer :\n",
    "        print(f\"{num}보다 작은 수입니다.\")\n",
    "    elif num < answer :\n",
    "        print(f\"{num}보다 큰 수입니다.\")\n",
    "    else :\n",
    "        print(\"정답을 맞추셨습니다.\")\n",
    "        isRight = False"
   ]
  },
  {
   "cell_type": "markdown",
   "id": "c9c9daae",
   "metadata": {},
   "source": [
    "### 02. for 문\n",
    "<pre>\n",
    "for 변수 in 시퀀스 자료구조 :\n",
    "    실행문장(변수)\n",
    "</pre>"
   ]
  },
  {
   "cell_type": "code",
   "execution_count": 16,
   "id": "de160e74",
   "metadata": {},
   "outputs": [
    {
     "name": "stdout",
     "output_type": "stream",
     "text": [
      "안\n",
      "녕\n",
      "하\n",
      "세\n",
      "요\n"
     ]
    }
   ],
   "source": [
    "hello = \"안녕하세요\"\n",
    "for s in hello :\n",
    "    print(s)"
   ]
  },
  {
   "cell_type": "code",
   "execution_count": 17,
   "id": "27ef9b43",
   "metadata": {},
   "outputs": [
    {
     "name": "stdout",
     "output_type": "stream",
     "text": [
      "햄버거\n",
      "피자\n",
      "치킨\n"
     ]
    }
   ],
   "source": [
    "list_food = ['햄버거','피자','치킨']\n",
    "for food in list_food :\n",
    "    print(food)"
   ]
  },
  {
   "cell_type": "code",
   "execution_count": 24,
   "id": "e081a54c",
   "metadata": {},
   "outputs": [
    {
     "name": "stdout",
     "output_type": "stream",
     "text": [
      "1번 학생은 합격입니다.\n",
      "2번 학생은 불합격입니다.\n",
      "3번 학생은 합격입니다.\n",
      "4번 학생은 합격입니다.\n",
      "5번 학생은 불합격입니다.\n"
     ]
    }
   ],
   "source": [
    "#5명에 대한 정보처리기사 자격증 시험 점수가 리스트에 담겨있음\n",
    "#이때 각 점수가 합격 점수인지 for문 활용해서 판별 후 출력\n",
    "#합격 점수는 60점 이상\n",
    "score_list = [90,45,70,60,55]\n",
    "for score in score_list :\n",
    "    if(score >= 60) :\n",
    "        isPass = '합격'\n",
    "    else :\n",
    "        isPass = '불합격'\n",
    "    print(f\"{score_list.index(score)+1}번 학생은 {isPass}입니다.\")\n",
    "    "
   ]
  },
  {
   "cell_type": "markdown",
   "id": "44aee295",
   "metadata": {},
   "source": [
    "#### range() 함수\n",
    "- 필요한 만큼의 숫자를 만들어내는 함수 ▷ 범위\n",
    "- range(시작값,끝값{,증감량})"
   ]
  },
  {
   "cell_type": "code",
   "execution_count": 32,
   "id": "9e68c2da",
   "metadata": {},
   "outputs": [
    {
     "name": "stdout",
     "output_type": "stream",
     "text": [
      "1 2 3 4 5 6 7 8 9 \n",
      "1 3 5 7 9 "
     ]
    }
   ],
   "source": [
    "for i in range(1,10) :\n",
    "    print(i, end = \" \")\n",
    "print()\n",
    "for j in range(1,10,2) :\n",
    "    print(j, end = \" \")"
   ]
  },
  {
   "cell_type": "code",
   "execution_count": 33,
   "id": "b0c00c08",
   "metadata": {},
   "outputs": [
    {
     "name": "stdout",
     "output_type": "stream",
     "text": [
      "10 9 8 7 6 5 4 3 2 1 "
     ]
    }
   ],
   "source": [
    "for i in range(10,0, -1) :\n",
    "    print(i, end=\" \")"
   ]
  },
  {
   "cell_type": "code",
   "execution_count": 34,
   "id": "dc762c64",
   "metadata": {},
   "outputs": [
    {
     "data": {
      "text/plain": [
       "[10, 9, 8, 7, 6, 5, 4, 3, 2, 1]"
      ]
     },
     "execution_count": 34,
     "metadata": {},
     "output_type": "execute_result"
    }
   ],
   "source": [
    "list1 = [1,2,3,4,5,6,7,8,9,10]\n",
    "list1[::-1]"
   ]
  },
  {
   "cell_type": "code",
   "execution_count": 37,
   "id": "f7e6802f",
   "metadata": {},
   "outputs": [
    {
     "name": "stdout",
     "output_type": "stream",
     "text": [
      "97 96 95 94 93 92 91 90 89 88 87 86 85 84 83 82 81 80 79 78 77 "
     ]
    }
   ],
   "source": [
    "#for문을 이용하여 97부터 77까지 출력\n",
    "for i in range(97,76,-1) :\n",
    "    print(i, end= \" \")"
   ]
  },
  {
   "cell_type": "code",
   "execution_count": 38,
   "id": "a260c3d6",
   "metadata": {},
   "outputs": [
    {
     "name": "stdout",
     "output_type": "stream",
     "text": [
      "23,24,25,26,27,28,29,30,31,32,33,34,35,36,37,38,39,"
     ]
    }
   ],
   "source": [
    "#for문을 이용하여 23부터 39까지 출력\n",
    "for i in range(23,40,1) :\n",
    "    print(i, end =\",\")"
   ]
  },
  {
   "cell_type": "code",
   "execution_count": 40,
   "id": "2eabe7f0",
   "metadata": {},
   "outputs": [
    {
     "name": "stdout",
     "output_type": "stream",
     "text": [
      "[[1, 2], [3, 4], [5, 6]]\n"
     ]
    },
    {
     "data": {
      "text/plain": [
       "2"
      ]
     },
     "execution_count": 40,
     "metadata": {},
     "output_type": "execute_result"
    }
   ],
   "source": [
    "#2차원 배열\n",
    "list1 = [[1,2],[3,4],[5,6]]\n",
    "print(list1)\n",
    "list1[0][1]"
   ]
  },
  {
   "cell_type": "code",
   "execution_count": 43,
   "id": "a6a772f8",
   "metadata": {},
   "outputs": [
    {
     "name": "stdout",
     "output_type": "stream",
     "text": [
      "1 2\n",
      "3 4\n",
      "5 6\n"
     ]
    }
   ],
   "source": [
    "#for문의 변수는 여러 개 사용 가능\n",
    "#들여다보는 시퀀스자료구조의 요소가 시퀀스인 경우 활용\n",
    "for i,j in list1 :\n",
    "    print(i,j)"
   ]
  },
  {
   "cell_type": "code",
   "execution_count": 57,
   "id": "5fea3286",
   "metadata": {},
   "outputs": [
    {
     "name": "stdout",
     "output_type": "stream",
     "text": [
      "max: 99, min: 1\n"
     ]
    }
   ],
   "source": [
    "list2 = [4,5,2,1,99,15,2,7,27]\n",
    "maxNum = minNum = list2[0]\n",
    "for i in range(1,9) :\n",
    "    if list2[i] > maxNum :\n",
    "        maxNum = list2[i]\n",
    "    elif list2[i] < minNum :\n",
    "        minNum = list2[i]\n",
    "print(f\"max: {maxNum}, min: {minNum}\")"
   ]
  },
  {
   "cell_type": "code",
   "execution_count": 60,
   "id": "841e59f8",
   "metadata": {},
   "outputs": [
    {
     "name": "stdout",
     "output_type": "stream",
     "text": [
      "1683\n"
     ]
    }
   ],
   "source": [
    "numSum = 0\n",
    "for i in range(1,101) :\n",
    "    if i%3 == 0 :\n",
    "        numSum += i\n",
    "print(numSum)"
   ]
  },
  {
   "cell_type": "code",
   "execution_count": 63,
   "id": "416beb9a",
   "metadata": {},
   "outputs": [
    {
     "name": "stdout",
     "output_type": "stream",
     "text": [
      "2*0 =0\n",
      "2*1 =2\n",
      "2*2 =4\n",
      "2*3 =6\n",
      "2*4 =8\n",
      "2*5 =10\n",
      "2*6 =12\n",
      "2*7 =14\n",
      "2*8 =16\n",
      "2*9 =18\n"
     ]
    }
   ],
   "source": [
    "#range() ▷ 시작값은 0이 기본값\n",
    "num = 2\n",
    "for i in range(10) :\n",
    "    print(f\"{num}*{i} ={num*i}\")"
   ]
  },
  {
   "cell_type": "code",
   "execution_count": 65,
   "id": "5dd20f0a",
   "metadata": {},
   "outputs": [
    {
     "name": "stdout",
     "output_type": "stream",
     "text": [
      "         ***********\n",
      "        ***********\n",
      "       ***********\n",
      "      ***********\n",
      "     ***********\n",
      "    ***********\n",
      "   ***********\n",
      "  ***********\n",
      " ***********\n",
      "***********\n"
     ]
    }
   ],
   "source": [
    "for i in range(1,11) :\n",
    "    print(\" \"*(10-i) + \"*\"*i + \"*\"*(11-i))"
   ]
  },
  {
   "cell_type": "code",
   "execution_count": 54,
   "id": "79ac4349",
   "metadata": {},
   "outputs": [
    {
     "name": "stdout",
     "output_type": "stream",
     "text": [
      "**********\n",
      "*********\n",
      "********\n",
      "*******\n",
      "******\n",
      "*****\n",
      "****\n",
      "***\n",
      "**\n",
      "*\n"
     ]
    }
   ],
   "source": [
    "for i in range(10,0,-1) :\n",
    "    print(\"*\"*i)"
   ]
  },
  {
   "cell_type": "code",
   "execution_count": null,
   "id": "a905fbca",
   "metadata": {},
   "outputs": [],
   "source": []
  },
  {
   "cell_type": "code",
   "execution_count": null,
   "id": "9c76dcb2",
   "metadata": {},
   "outputs": [],
   "source": []
  },
  {
   "cell_type": "code",
   "execution_count": null,
   "id": "5623646c",
   "metadata": {},
   "outputs": [],
   "source": []
  }
 ],
 "metadata": {
  "kernelspec": {
   "display_name": "Python 3 (ipykernel)",
   "language": "python",
   "name": "python3"
  },
  "language_info": {
   "codemirror_mode": {
    "name": "ipython",
    "version": 3
   },
   "file_extension": ".py",
   "mimetype": "text/x-python",
   "name": "python",
   "nbconvert_exporter": "python",
   "pygments_lexer": "ipython3",
   "version": "3.11.4"
  }
 },
 "nbformat": 4,
 "nbformat_minor": 5
}
