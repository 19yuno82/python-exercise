{
 "cells": [
  {
   "cell_type": "markdown",
   "id": "c4052c8a",
   "metadata": {},
   "source": [
    "## 리스트(List)\n",
    "- 파이썬의 자료형 중 하나\n",
    "- 순서(인덱스가 존재)가 있는 수정 가능(삽입,삭제,수정)한 객체의 집합\n",
    "- 대괄호([])로 작성되어지며, 리스트 내부의 값은 콤마(,)로 구분"
   ]
  },
  {
   "cell_type": "code",
   "execution_count": 1,
   "id": "3ac085e1",
   "metadata": {},
   "outputs": [
    {
     "data": {
      "text/plain": [
       "[2, 5, 7, 9, 10]"
      ]
     },
     "execution_count": 1,
     "metadata": {},
     "output_type": "execute_result"
    }
   ],
   "source": [
    "#리스트 생성\n",
    "list1 = [2,5,7,9,10]\n",
    "list1"
   ]
  },
  {
   "cell_type": "markdown",
   "id": "742bb3fd",
   "metadata": {},
   "source": [
    "### 리스트 인덱싱, 슬라이싱\n",
    "- 인덱싱 : 무엇인가(요소 하나)를 '가리킨다'는 의미\n",
    "- 슬라이싱 : 무엇인가(요소들)를 '잘라낸다'는 의미"
   ]
  },
  {
   "cell_type": "code",
   "execution_count": 2,
   "id": "269cb80c",
   "metadata": {},
   "outputs": [
    {
     "data": {
      "text/plain": [
       "9"
      ]
     },
     "execution_count": 2,
     "metadata": {},
     "output_type": "execute_result"
    }
   ],
   "source": [
    "list1[3]"
   ]
  },
  {
   "cell_type": "code",
   "execution_count": 4,
   "id": "675750ec",
   "metadata": {},
   "outputs": [
    {
     "data": {
      "text/plain": [
       "[1, 2, 3, ['a', 'b', 'c']]"
      ]
     },
     "execution_count": 4,
     "metadata": {},
     "output_type": "execute_result"
    }
   ],
   "source": [
    "list2 = [1,2,3,['a','b','c']]\n",
    "list2"
   ]
  },
  {
   "cell_type": "code",
   "execution_count": 6,
   "id": "dc16bc86",
   "metadata": {},
   "outputs": [
    {
     "data": {
      "text/plain": [
       "'b'"
      ]
     },
     "execution_count": 6,
     "metadata": {},
     "output_type": "execute_result"
    }
   ],
   "source": [
    "list2[3][1]"
   ]
  },
  {
   "cell_type": "code",
   "execution_count": 10,
   "id": "2fafdc39",
   "metadata": {},
   "outputs": [
    {
     "data": {
      "text/plain": [
       "[1, 2]"
      ]
     },
     "execution_count": 10,
     "metadata": {},
     "output_type": "execute_result"
    }
   ],
   "source": [
    "list3 = [0,1,2,3,4]\n",
    "list3[1:3]"
   ]
  },
  {
   "cell_type": "code",
   "execution_count": 11,
   "id": "fc4a3ed9",
   "metadata": {},
   "outputs": [
    {
     "data": {
      "text/plain": [
       "[1, 2, 3, 4, 5, 6]"
      ]
     },
     "execution_count": 11,
     "metadata": {},
     "output_type": "execute_result"
    }
   ],
   "source": [
    "#리스트 더하기\n",
    "#문자열 더하기처럼 데이터를 더 하는게 아닌  이어붙임\n",
    "list4 = [1,2,3]\n",
    "list5 = [4,5,6]\n",
    "list4+list5"
   ]
  },
  {
   "cell_type": "code",
   "execution_count": 13,
   "id": "b22107e6",
   "metadata": {},
   "outputs": [
    {
     "data": {
      "text/plain": [
       "[1, 2, 3, 1, 2, 3, 1, 2, 3, 1, 2, 3]"
      ]
     },
     "execution_count": 13,
     "metadata": {},
     "output_type": "execute_result"
    }
   ],
   "source": [
    "list4 * 4"
   ]
  },
  {
   "cell_type": "markdown",
   "id": "177b0b3f",
   "metadata": {},
   "source": [
    "### 리스트 다루기 ▷ 추가\n",
    "- 리스트명.append(값) : 맨 뒤에 값 추가\n",
    "- 리스트명.insert(인덱스,값) : 원하는 인덱스에 값 추가(나머지 값들은 한 칸씩 밀림)"
   ]
  },
  {
   "cell_type": "code",
   "execution_count": 22,
   "id": "8fe9e7b4",
   "metadata": {},
   "outputs": [
    {
     "data": {
      "text/plain": [
       "[0, 1, 2, 3, 4, 5]"
      ]
     },
     "execution_count": 22,
     "metadata": {},
     "output_type": "execute_result"
    }
   ],
   "source": [
    "#append()는 바로 적용 ▷ inplace\n",
    "list6 = [0,1,2,3,4]\n",
    "list6.append(5)\n",
    "list6"
   ]
  },
  {
   "cell_type": "code",
   "execution_count": 23,
   "id": "dce12693",
   "metadata": {},
   "outputs": [
    {
     "data": {
      "text/plain": [
       "[0, 1, 2, 10, 3, 4, 5]"
      ]
     },
     "execution_count": 23,
     "metadata": {},
     "output_type": "execute_result"
    }
   ],
   "source": [
    "#insert()\n",
    "list6.insert(3,10)\n",
    "list6"
   ]
  },
  {
   "cell_type": "markdown",
   "id": "04f85d9a",
   "metadata": {},
   "source": [
    "### 리스트 다루기 ▷ 수정\n",
    "- 인덱싱과 슬라이싱 활용"
   ]
  },
  {
   "cell_type": "code",
   "execution_count": 24,
   "id": "83bdcd8b",
   "metadata": {},
   "outputs": [
    {
     "data": {
      "text/plain": [
       "[0, 1, 2, 3, 3, 4, 5]"
      ]
     },
     "execution_count": 24,
     "metadata": {},
     "output_type": "execute_result"
    }
   ],
   "source": [
    "#값을 수정 시 해당 요소에 대해 접근(인덱싱,슬라이싱) 후에 새로 대입\n",
    "list6[3] = 3\n",
    "list6"
   ]
  },
  {
   "cell_type": "code",
   "execution_count": 35,
   "id": "6c3b2898",
   "metadata": {},
   "outputs": [],
   "source": [
    "list6[3:5] = [7]"
   ]
  },
  {
   "cell_type": "code",
   "execution_count": 36,
   "id": "de2e79b6",
   "metadata": {},
   "outputs": [
    {
     "data": {
      "text/plain": [
       "[0, 1, 2, 7]"
      ]
     },
     "execution_count": 36,
     "metadata": {},
     "output_type": "execute_result"
    }
   ],
   "source": [
    "list6"
   ]
  },
  {
   "cell_type": "markdown",
   "id": "a657e39d",
   "metadata": {},
   "source": [
    "### 리스트 다루기 ▷ 삭제\n",
    "- del 리스트명[인덱스] : 인덱스에 해당하는 요소를 지움\n",
    "- 리스트명.remove(값) : 순차적으로 접근하였을 때 마주친 값 하나를 지움"
   ]
  },
  {
   "cell_type": "code",
   "execution_count": 37,
   "id": "353ca754",
   "metadata": {},
   "outputs": [
    {
     "data": {
      "text/plain": [
       "[0, 1, 2]"
      ]
     },
     "execution_count": 37,
     "metadata": {},
     "output_type": "execute_result"
    }
   ],
   "source": [
    "del list6[3]\n",
    "list6"
   ]
  },
  {
   "cell_type": "code",
   "execution_count": 39,
   "id": "790a0516",
   "metadata": {},
   "outputs": [
    {
     "data": {
      "text/plain": [
       "['a', 'c', 'd', 'b', 'e', 'f']"
      ]
     },
     "execution_count": 39,
     "metadata": {},
     "output_type": "execute_result"
    }
   ],
   "source": [
    "list7 =['a','b','c','d','b','e','f']\n",
    "#remove() : 가장 첫 번째로 만나는 해당 값만 지움\n",
    "list7.remove(\"b\")\n",
    "list7"
   ]
  },
  {
   "cell_type": "markdown",
   "id": "4b8d3886",
   "metadata": {},
   "source": [
    "### 리스트 다루기 ▷ 기타\n",
    "- 리스트명.sort() : 오름차순 정렬\n",
    "- 리스트명.reverse() : 역순(정렬이 아닌 거꾸로 뒤집음)\n",
    "- 리스트명.index() : 값의 위치(인덱스) 반환 ▷ 해당 값의 인덱스를 찾고자 할 때\n",
    "- len(리스트명) : 길이 확인"
   ]
  },
  {
   "cell_type": "code",
   "execution_count": 45,
   "id": "1f53b28d",
   "metadata": {},
   "outputs": [
    {
     "data": {
      "text/plain": [
       "[2, 45, 15, 32, 9, 6]"
      ]
     },
     "execution_count": 45,
     "metadata": {},
     "output_type": "execute_result"
    }
   ],
   "source": [
    "list8 = [2,45,15,32,9,6]\n",
    "list8"
   ]
  },
  {
   "cell_type": "code",
   "execution_count": 46,
   "id": "19ee6cb4",
   "metadata": {},
   "outputs": [
    {
     "data": {
      "text/plain": [
       "[6, 9, 32, 15, 45, 2]"
      ]
     },
     "execution_count": 46,
     "metadata": {},
     "output_type": "execute_result"
    }
   ],
   "source": [
    "#역순\n",
    "list8.reverse()\n",
    "list8"
   ]
  },
  {
   "cell_type": "code",
   "execution_count": 47,
   "id": "15700e95",
   "metadata": {},
   "outputs": [
    {
     "data": {
      "text/plain": [
       "[2, 6, 9, 15, 32, 45]"
      ]
     },
     "execution_count": 47,
     "metadata": {},
     "output_type": "execute_result"
    }
   ],
   "source": [
    "list8.sort()\n",
    "list8"
   ]
  },
  {
   "cell_type": "code",
   "execution_count": 48,
   "id": "7181e7e5",
   "metadata": {},
   "outputs": [
    {
     "data": {
      "text/plain": [
       "[45, 32, 15, 9, 6, 2]"
      ]
     },
     "execution_count": 48,
     "metadata": {},
     "output_type": "execute_result"
    }
   ],
   "source": [
    "#sort() ▷ reverse() : 내림차순 정렬\n",
    "list8.reverse()\n",
    "list8"
   ]
  },
  {
   "cell_type": "code",
   "execution_count": 50,
   "id": "bb544847",
   "metadata": {},
   "outputs": [
    {
     "data": {
      "text/plain": [
       "2"
      ]
     },
     "execution_count": 50,
     "metadata": {},
     "output_type": "execute_result"
    }
   ],
   "source": [
    "#해당하는 값의 위치(인덱스) 확인\n",
    "list8.index(15)"
   ]
  },
  {
   "cell_type": "code",
   "execution_count": 51,
   "id": "77ce92b6",
   "metadata": {},
   "outputs": [
    {
     "data": {
      "text/plain": [
       "6"
      ]
     },
     "execution_count": 51,
     "metadata": {},
     "output_type": "execute_result"
    }
   ],
   "source": [
    "#길이확인\n",
    "len(list8)"
   ]
  },
  {
   "cell_type": "markdown",
   "id": "52c9dc6f",
   "metadata": {},
   "source": [
    "## 튜플(tuple)\n",
    "- 파이썬의 자료형 중 하나\n",
    "- 순서(인덱스)가 있으나, 수정 불가능한 객체의 집합\n",
    "- 소괄호(())로 작성되어지며, 튜플의 내부 값은 콤마(,)로 구분"
   ]
  },
  {
   "cell_type": "code",
   "execution_count": 52,
   "id": "d34c4f9a",
   "metadata": {},
   "outputs": [
    {
     "data": {
      "text/plain": [
       "(0, 1, 2, 3, ('a', 'b', 'c'), 5)"
      ]
     },
     "execution_count": 52,
     "metadata": {},
     "output_type": "execute_result"
    }
   ],
   "source": [
    "tuple1 = (0,1,2,3,('a','b','c'),5)\n",
    "tuple1"
   ]
  },
  {
   "cell_type": "code",
   "execution_count": 53,
   "id": "3258f0d5",
   "metadata": {},
   "outputs": [
    {
     "name": "stdout",
     "output_type": "stream",
     "text": [
      "2\n",
      "(1, 2, 3)\n",
      "b\n"
     ]
    }
   ],
   "source": [
    "#튜플 인덱싱 & 슬라이싱\n",
    "print(tuple1[2])\n",
    "print(tuple1[1:4])\n",
    "print(tuple1[4][1])"
   ]
  },
  {
   "cell_type": "code",
   "execution_count": 54,
   "id": "2f45787d",
   "metadata": {},
   "outputs": [
    {
     "data": {
      "text/plain": [
       "6"
      ]
     },
     "execution_count": 54,
     "metadata": {},
     "output_type": "execute_result"
    }
   ],
   "source": [
    "len(tuple1)"
   ]
  },
  {
   "cell_type": "code",
   "execution_count": 55,
   "id": "ee41db49",
   "metadata": {},
   "outputs": [
    {
     "ename": "TypeError",
     "evalue": "'tuple' object does not support item assignment",
     "output_type": "error",
     "traceback": [
      "\u001b[1;31m---------------------------------------------------------------------------\u001b[0m",
      "\u001b[1;31mTypeError\u001b[0m                                 Traceback (most recent call last)",
      "Cell \u001b[1;32mIn[55], line 1\u001b[0m\n\u001b[1;32m----> 1\u001b[0m tuple1[\u001b[38;5;241m0\u001b[39m] \u001b[38;5;241m=\u001b[39m \u001b[38;5;241m0\u001b[39m\n",
      "\u001b[1;31mTypeError\u001b[0m: 'tuple' object does not support item assignment"
     ]
    }
   ],
   "source": [
    "#튜플은 추가, 삭제, 수정이 불가능하다!\n",
    "tuple1[0] = 0"
   ]
  }
 ],
 "metadata": {
  "kernelspec": {
   "display_name": "Python 3 (ipykernel)",
   "language": "python",
   "name": "python3"
  },
  "language_info": {
   "codemirror_mode": {
    "name": "ipython",
    "version": 3
   },
   "file_extension": ".py",
   "mimetype": "text/x-python",
   "name": "python",
   "nbconvert_exporter": "python",
   "pygments_lexer": "ipython3",
   "version": "3.11.4"
  }
 },
 "nbformat": 4,
 "nbformat_minor": 5
}
