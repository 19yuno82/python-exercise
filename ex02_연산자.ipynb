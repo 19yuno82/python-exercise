{
 "cells": [
  {
   "cell_type": "markdown",
   "id": "35760c2d",
   "metadata": {},
   "source": [
    "#### 산술연산자\n",
    "- / : 나누기\n",
    "- // : 몫\n",
    "- % : 나머지"
   ]
  },
  {
   "cell_type": "code",
   "execution_count": 1,
   "id": "83c0e99c",
   "metadata": {},
   "outputs": [
    {
     "name": "stdout",
     "output_type": "stream",
     "text": [
      "안녕하세요 😊\n"
     ]
    }
   ],
   "source": [
    "# 문자열 더하기\n",
    "str1 = \"안녕\"\n",
    "str2 = \"하세요 😊\"\n",
    "print(str1+str2)"
   ]
  },
  {
   "cell_type": "code",
   "execution_count": 2,
   "id": "8ccf7112",
   "metadata": {},
   "outputs": [
    {
     "name": "stdout",
     "output_type": "stream",
     "text": [
      "107\n"
     ]
    }
   ],
   "source": [
    "str1 = \"10\"\n",
    "str2 = \"7\"\n",
    "print(str1+str2)"
   ]
  },
  {
   "cell_type": "code",
   "execution_count": 4,
   "id": "d3f97f8f",
   "metadata": {},
   "outputs": [
    {
     "name": "stdout",
     "output_type": "stream",
     "text": [
      "17\n",
      "107\n"
     ]
    }
   ],
   "source": [
    "# 숫자와 문자열 더하기 (강제 형변환 활용)\n",
    "str1 = 10\n",
    "str2 = \"7\"\n",
    "\n",
    "#형변환을 통해서 숫자를 문자열로, 문자열을 숫자로\n",
    "print(str1 + int(str2))\n",
    "print(str(str1) + str2)"
   ]
  },
  {
   "cell_type": "code",
   "execution_count": 5,
   "id": "9d991651",
   "metadata": {},
   "outputs": [
    {
     "name": "stdout",
     "output_type": "stream",
     "text": [
      "더하기 결과 : 26\n",
      "빼기 결과 : 20\n",
      "곱하기 결과 : 69\n",
      "나누기 결과 : 7.67\n"
     ]
    }
   ],
   "source": [
    "num1 = 23\n",
    "num2 = 3\n",
    "\n",
    "s = \"%s 결과 : %d\"%(\"더하기\",(num1+num2))\n",
    "print(s)\n",
    "s = \"%s 결과 : %d\"%(\"빼기\",(num1-num2))\n",
    "print(s)\n",
    "s = \"%s 결과 : %d\"%(\"곱하기\",(num1*num2))\n",
    "print(s)\n",
    "s = \"%s 결과 : %.2f\"%(\"나누기\",(num1/num2))\n",
    "print(s)"
   ]
  },
  {
   "cell_type": "code",
   "execution_count": 6,
   "id": "df2cdc73",
   "metadata": {
    "scrolled": true
   },
   "outputs": [
    {
     "name": "stdout",
     "output_type": "stream",
     "text": [
      "정수를 입력하세요 >> 1\n"
     ]
    }
   ],
   "source": [
    "#input() : 키보드로 입력 받음, 리턴값은 무조건 문자열\n",
    "num = input(\"정수를 입력하세요 >> \")"
   ]
  },
  {
   "cell_type": "code",
   "execution_count": 9,
   "id": "f2d23ed9",
   "metadata": {},
   "outputs": [
    {
     "name": "stdout",
     "output_type": "stream",
     "text": [
      "정수를 입력하세요 >>23\n",
      "정수를 입력하세요 >>3\n",
      "더하기 결과 : 26\n",
      "빼기 결과 : 20\n",
      "곱하기 결과 : 69\n",
      "나누기 결과 : 7.67\n"
     ]
    }
   ],
   "source": [
    "#input()를 활용하여 num1과 num2의 값을 키보드로 입력받고,\n",
    "#위의 결과대로 출력하는 코드를 짜시오\n",
    "num1 = int(input(\"정수를 입력하세요 >>\"))\n",
    "num2 = int(input(\"정수를 입력하세요 >>\"))\n",
    "print(f\"더하기 결과 : {num1+num2}\")\n",
    "print(f\"빼기 결과 : {num1-num2}\")\n",
    "print(f\"곱하기 결과 : {num1*num2}\")\n",
    "print(f\"나누기 결과 : {num1/num2:.2f}\")"
   ]
  },
  {
   "cell_type": "code",
   "execution_count": 7,
   "id": "92d8d0d8",
   "metadata": {},
   "outputs": [
    {
     "name": "stdout",
     "output_type": "stream",
     "text": [
      "python 점수 입력 >>1\n",
      "머신러닝 점수 입력 >>1\n",
      "딥러닝 점수 입력 >>1\n",
      "합계 : 3\n",
      "평균 : 1.0\n"
     ]
    }
   ],
   "source": [
    "#Python, 머신러닝, 딥러닝  점수를 키보드로 입력받아서 합계와 평균을 출력\n",
    "num1 = int(input(\"python 점수 입력 >>\"))\n",
    "num2 = int(input(\"머신러닝 점수 입력 >>\"))\n",
    "num3 = int(input(\"딥러닝 점수 입력 >>\"))\n",
    "add = num1 + num2 + num3\n",
    "print(\"합계 : {}\".format(add))\n",
    "print(\"평균 : {}\".format(add/3))"
   ]
  },
  {
   "cell_type": "code",
   "execution_count": 12,
   "id": "5b48e57f",
   "metadata": {},
   "outputs": [
    {
     "name": "stdout",
     "output_type": "stream",
     "text": [
      "-------------------- python --------------------\n"
     ]
    }
   ],
   "source": [
    "# 문자열 곱하기 -> 해당 개수만큼 반복\n",
    "s=\"-\"\n",
    "print(s*20,\"python\",s*20)"
   ]
  },
  {
   "cell_type": "markdown",
   "id": "22fbbc14",
   "metadata": {},
   "source": [
    "#### 지수연산자\n",
    "- **"
   ]
  },
  {
   "cell_type": "code",
   "execution_count": 15,
   "id": "302bda63",
   "metadata": {},
   "outputs": [
    {
     "name": "stdout",
     "output_type": "stream",
     "text": [
      "정수 입력 >>2\n",
      "지수 입력 >>5\n",
      "2의 5승은 32입니다. \n"
     ]
    }
   ],
   "source": [
    "num = int(input(\"정수 입력 >>\"))\n",
    "power = int(input(\"지수 입력 >>\"))\n",
    "print(f\"{num}의 {power}승은 {num**power}입니다. \")"
   ]
  },
  {
   "cell_type": "markdown",
   "id": "3c22f3c2",
   "metadata": {},
   "source": [
    "#### 복합연산자\n",
    "- 값을 누적시키기 위해서 사용\n",
    "- 코드를 줄이고 가독성이 향상"
   ]
  },
  {
   "cell_type": "code",
   "execution_count": 18,
   "id": "11270dd8",
   "metadata": {},
   "outputs": [
    {
     "name": "stdout",
     "output_type": "stream",
     "text": [
      "100\n",
      "45\n",
      "-10\n"
     ]
    }
   ],
   "source": [
    "num1 = 100\n",
    "print(num1)\n",
    "num1 -= 55 #num1 = num1 - 55\n",
    "print(num1)\n",
    "num1 -= 55 #num1 = num1 - 55\n",
    "print(num1)"
   ]
  },
  {
   "cell_type": "code",
   "execution_count": 20,
   "id": "ac29e6ad",
   "metadata": {},
   "outputs": [
    {
     "name": "stdout",
     "output_type": "stream",
     "text": [
      "a: 3\n",
      "b: 7\n"
     ]
    }
   ],
   "source": [
    "a = 3\n",
    "b = 7\n",
    "print(f\"a: {a}\")\n",
    "print(f\"b: {b}\")"
   ]
  },
  {
   "cell_type": "code",
   "execution_count": 21,
   "id": "a1739cc0",
   "metadata": {},
   "outputs": [
    {
     "name": "stdout",
     "output_type": "stream",
     "text": [
      "a: 7\n",
      "b: 3\n"
     ]
    }
   ],
   "source": [
    "temp = a\n",
    "a = b\n",
    "b = temp\n",
    "print(f\"a: {a}\")\n",
    "print(f\"b: {b}\")"
   ]
  },
  {
   "cell_type": "code",
   "execution_count": 22,
   "id": "cbcc5329",
   "metadata": {},
   "outputs": [
    {
     "name": "stdout",
     "output_type": "stream",
     "text": [
      "a: 3\n",
      "b: 7\n"
     ]
    }
   ],
   "source": [
    "a,b = b,a\n",
    "print(f\"a: {a}\")\n",
    "print(f\"b: {b}\")"
   ]
  },
  {
   "cell_type": "markdown",
   "id": "cd1a8408",
   "metadata": {},
   "source": [
    "#### 비교연산자"
   ]
  },
  {
   "cell_type": "code",
   "execution_count": 30,
   "id": "83eaedc0",
   "metadata": {},
   "outputs": [],
   "source": [
    "import random as rd\n",
    "#random.randint(범위시작값,범위끝값) -> 애만 끝값을 포함....."
   ]
  },
  {
   "cell_type": "code",
   "execution_count": 32,
   "id": "a74e2a19",
   "metadata": {},
   "outputs": [
    {
     "name": "stdout",
     "output_type": "stream",
     "text": [
      "a : 3, b : 7\n",
      "True\n",
      "False\n",
      "False\n",
      "True\n"
     ]
    }
   ],
   "source": [
    "a = rd.randint(1,10)\n",
    "b = rd.randint(1,10)\n",
    "\n",
    "print(f\"a : {a}, b : {b}\")\n",
    "print(a<b)\n",
    "print(a>b)\n",
    "print(a==b)\n",
    "print(a!=b)"
   ]
  },
  {
   "cell_type": "markdown",
   "id": "f33246a5",
   "metadata": {},
   "source": [
    "#### 논리연산자 ->and, or, not\n",
    "- \"비트연산자(&,|)\"와는 다름"
   ]
  },
  {
   "cell_type": "markdown",
   "id": "99a25254",
   "metadata": {},
   "source": [
    "#### 멤버연산자\n",
    "- in, not in"
   ]
  },
  {
   "cell_type": "code",
   "execution_count": 33,
   "id": "7fb7daab",
   "metadata": {},
   "outputs": [
    {
     "name": "stdout",
     "output_type": "stream",
     "text": [
      "4가 있습니다.\n"
     ]
    }
   ],
   "source": [
    "if 4 in [1,2,3,4] : print(\"4가 있습니다.\")"
   ]
  },
  {
   "cell_type": "markdown",
   "id": "6a6824d7",
   "metadata": {},
   "source": [
    "#### 삼항연산자\n",
    "- a if 조건식 else b\n",
    "- 조건식이 True 이면 a 실행(왼쪽)\n",
    "- 조건식이 False 이면 b 실행(오른쪽)"
   ]
  },
  {
   "cell_type": "code",
   "execution_count": 35,
   "id": "7793c7e6",
   "metadata": {},
   "outputs": [
    {
     "name": "stdout",
     "output_type": "stream",
     "text": [
      "True\n"
     ]
    }
   ],
   "source": [
    "score = 80\n",
    "print(True) if score>60 else print(False)"
   ]
  },
  {
   "cell_type": "code",
   "execution_count": 37,
   "id": "e93e28f7",
   "metadata": {},
   "outputs": [
    {
     "name": "stdout",
     "output_type": "stream",
     "text": [
      "정수입력 >> 3\n",
      "정수입력 >> 10\n",
      "b: 10\n"
     ]
    }
   ],
   "source": [
    "a = int(input(\"정수입력 >> \"))\n",
    "b = int(input(\"정수입력 >> \"))\n",
    "print(f\"a: {a}\") if a>b else print(f\"b: {b}\")"
   ]
  },
  {
   "cell_type": "code",
   "execution_count": 38,
   "id": "5363f647",
   "metadata": {},
   "outputs": [
    {
     "name": "stdout",
     "output_type": "stream",
     "text": [
      "정수입력 >> 5\n",
      "정수입력 >> 10\n",
      "두 수의 차 : 5\n"
     ]
    }
   ],
   "source": [
    "a = int(input(\"정수입력 >> \"))\n",
    "b = int(input(\"정수입력 >> \"))\n",
    "print(f\"두 수의 차 : {a-b}\") if a>b else print(f\"두 수의 차 : {b-a}\")"
   ]
  },
  {
   "cell_type": "code",
   "execution_count": 39,
   "id": "a217e2b7",
   "metadata": {},
   "outputs": [
    {
     "name": "stdout",
     "output_type": "stream",
     "text": [
      "정수입력 >> 33\n",
      "정수입력 >> 5\n",
      "두 수의 차 : 28\n"
     ]
    }
   ],
   "source": [
    "a = int(input(\"정수입력 >> \"))\n",
    "b = int(input(\"정수입력 >> \"))\n",
    "print(f\"두 수의 차 : {a-b}\") if a>b else print(f\"두 수의 차 : {b-a}\")"
   ]
  },
  {
   "cell_type": "code",
   "execution_count": 57,
   "id": "3a3e1eca",
   "metadata": {},
   "outputs": [
    {
     "name": "stdout",
     "output_type": "stream",
     "text": [
      "정수 입력 >> 33\n",
      "33는(은) 홀수입니다.\n",
      "33는(은) 홀수입니다.\n",
      "33는(은) 홀수입니다.\n"
     ]
    }
   ],
   "source": [
    "num = int(input(\"정수 입력 >> \"))\n",
    "print(\"{}는(은) {}입니다.\".format(num, \"홀수\"if num%2 != 0 else \"짝수\"))\n",
    "s = \"%d는(은) %s입니다.\"%(num,\"홀수\"if num%2 != 0 else \"짝수\")\n",
    "print(s)\n",
    "print(f\"{num}는(은) {'홀수' if num%2 != 0 else '짝수'}입니다.\")"
   ]
  },
  {
   "cell_type": "code",
   "execution_count": null,
   "id": "535dfda6",
   "metadata": {},
   "outputs": [],
   "source": []
  },
  {
   "cell_type": "code",
   "execution_count": null,
   "id": "bcc4dd62",
   "metadata": {},
   "outputs": [],
   "source": []
  },
  {
   "cell_type": "code",
   "execution_count": null,
   "id": "16c51587",
   "metadata": {},
   "outputs": [],
   "source": []
  }
 ],
 "metadata": {
  "kernelspec": {
   "display_name": "Python 3 (ipykernel)",
   "language": "python",
   "name": "python3"
  },
  "language_info": {
   "codemirror_mode": {
    "name": "ipython",
    "version": 3
   },
   "file_extension": ".py",
   "mimetype": "text/x-python",
   "name": "python",
   "nbconvert_exporter": "python",
   "pygments_lexer": "ipython3",
   "version": "3.11.4"
  }
 },
 "nbformat": 4,
 "nbformat_minor": 5
}
