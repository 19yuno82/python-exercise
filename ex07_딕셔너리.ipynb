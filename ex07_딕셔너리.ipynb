{
 "cells": [
  {
   "cell_type": "markdown",
   "id": "be12be77",
   "metadata": {},
   "source": [
    "### 딕셔너리(Dictionary,사전)\n",
    "- 딕셔너리는 {변할 수 없는 Key:변해도 되는 Value}를 한 쌍으로 갖는 자료형\n",
    "- 각각의 속성이나 개성을 표현할 때 딕셔너리를 사용\n",
    "- 기호는({}) 사용, 구분 기호는 콤마(,)\n",
    "- Key와 Value는 콜론(:)을 사용"
   ]
  },
  {
   "cell_type": "code",
   "execution_count": 26,
   "id": "6d6b64df",
   "metadata": {},
   "outputs": [
    {
     "data": {
      "text/plain": [
       "{'Key': 'value', 'name': 'YN', 'age': 20, 'phone': '010-1234-5678'}"
      ]
     },
     "execution_count": 26,
     "metadata": {},
     "output_type": "execute_result"
    }
   ],
   "source": [
    "#딕셔너리 생성\n",
    "dic1 = {\"Key\":\"value\",\"name\":\"YN\",\"age\":20,\"phone\":\"010-1234-5678\"}\n",
    "dic1"
   ]
  },
  {
   "cell_type": "code",
   "execution_count": 27,
   "id": "8c879813",
   "metadata": {},
   "outputs": [
    {
     "data": {
      "text/plain": [
       "dict"
      ]
     },
     "execution_count": 27,
     "metadata": {},
     "output_type": "execute_result"
    }
   ],
   "source": [
    "type(dic1)"
   ]
  },
  {
   "cell_type": "code",
   "execution_count": 28,
   "id": "355705ae",
   "metadata": {},
   "outputs": [
    {
     "data": {
      "text/plain": [
       "{'Key': 'value', 'name': 'YN', 'age': 20, 'phone': '010-1234-5678', 0: '02/04'}"
      ]
     },
     "execution_count": 28,
     "metadata": {},
     "output_type": "execute_result"
    }
   ],
   "source": [
    "#딕셔너리 값 추가\n",
    "dic1[0] = \"02/04\"\n",
    "dic1"
   ]
  },
  {
   "cell_type": "code",
   "execution_count": 29,
   "id": "b01ff575",
   "metadata": {},
   "outputs": [],
   "source": [
    "#딕셔너리 삭제\n",
    "del dic1['age']"
   ]
  },
  {
   "cell_type": "code",
   "execution_count": 30,
   "id": "407d8117",
   "metadata": {},
   "outputs": [
    {
     "data": {
      "text/plain": [
       "{'Key': 'value', 'name': 'YN', 'phone': '010-1234-5678', 0: '02/04'}"
      ]
     },
     "execution_count": 30,
     "metadata": {},
     "output_type": "execute_result"
    }
   ],
   "source": [
    "dic1"
   ]
  },
  {
   "cell_type": "code",
   "execution_count": 31,
   "id": "b1a751ea",
   "metadata": {},
   "outputs": [
    {
     "data": {
      "text/plain": [
       "'010-1234-5678'"
      ]
     },
     "execution_count": 31,
     "metadata": {},
     "output_type": "execute_result"
    }
   ],
   "source": [
    "#딕셔너리 값 가져오기 ▷ 인덱싱\n",
    "#일반적인 인덱싱은 없는 값을 가져올 경우 error 발생\n",
    "dic1['phone']"
   ]
  },
  {
   "cell_type": "code",
   "execution_count": 32,
   "id": "8bee18c6",
   "metadata": {},
   "outputs": [
    {
     "data": {
      "text/plain": [
       "'010-1234-5678'"
      ]
     },
     "execution_count": 32,
     "metadata": {},
     "output_type": "execute_result"
    }
   ],
   "source": [
    "#딕셔너리 값 가져오기2 ▷ 인덱싱\n",
    "#get(\"Key\") : error를 예외처리해줌\n",
    "dic1.get('phone')"
   ]
  },
  {
   "cell_type": "code",
   "execution_count": 33,
   "id": "773a8f58",
   "metadata": {},
   "outputs": [],
   "source": [
    "#딕셔너리 값 수정하기\n",
    "dic1[\"phone\"] = \"010-9876-5432\""
   ]
  },
  {
   "cell_type": "code",
   "execution_count": 34,
   "id": "1d0a7008",
   "metadata": {},
   "outputs": [
    {
     "data": {
      "text/plain": [
       "{'Key': 'value', 'name': 'YN', 'phone': '010-9876-5432', 0: '02/04'}"
      ]
     },
     "execution_count": 34,
     "metadata": {},
     "output_type": "execute_result"
    }
   ],
   "source": [
    "dic1"
   ]
  },
  {
   "cell_type": "code",
   "execution_count": 35,
   "id": "82b58ff5",
   "metadata": {},
   "outputs": [
    {
     "data": {
      "text/plain": [
       "dict_keys(['Key', 'name', 'phone', 0])"
      ]
     },
     "execution_count": 35,
     "metadata": {},
     "output_type": "execute_result"
    }
   ],
   "source": [
    "#딕셔너리 키값만 뽑아오기\n",
    "dic1.keys()"
   ]
  },
  {
   "cell_type": "code",
   "execution_count": 36,
   "id": "7bdd3957",
   "metadata": {},
   "outputs": [
    {
     "data": {
      "text/plain": [
       "dict_keys"
      ]
     },
     "execution_count": 36,
     "metadata": {},
     "output_type": "execute_result"
    }
   ],
   "source": [
    "type(dic1.keys())"
   ]
  },
  {
   "cell_type": "code",
   "execution_count": 37,
   "id": "e40292cd",
   "metadata": {},
   "outputs": [
    {
     "data": {
      "text/plain": [
       "dict_values(['value', 'YN', '010-9876-5432', '02/04'])"
      ]
     },
     "execution_count": 37,
     "metadata": {},
     "output_type": "execute_result"
    }
   ],
   "source": [
    "#딕셔너리 value값만 뽑아오기\n",
    "dic1.values()"
   ]
  },
  {
   "cell_type": "code",
   "execution_count": 38,
   "id": "2ab93d7a",
   "metadata": {},
   "outputs": [
    {
     "data": {
      "text/plain": [
       "dict_items([('Key', 'value'), ('name', 'YN'), ('phone', '010-9876-5432'), (0, '02/04')])"
      ]
     },
     "execution_count": 38,
     "metadata": {},
     "output_type": "execute_result"
    }
   ],
   "source": [
    "#딕셔너리 key값 + value값 뽑아오기\n",
    "dic1.items()"
   ]
  },
  {
   "cell_type": "code",
   "execution_count": 39,
   "id": "be04e3f3",
   "metadata": {},
   "outputs": [
    {
     "name": "stdout",
     "output_type": "stream",
     "text": [
      "Key\n",
      "name\n",
      "phone\n",
      "0\n"
     ]
    }
   ],
   "source": [
    "#key값만 뽑아보기\n",
    "for key in dic1.keys() :\n",
    "    print(key)"
   ]
  },
  {
   "cell_type": "code",
   "execution_count": 40,
   "id": "78c931d3",
   "metadata": {},
   "outputs": [
    {
     "name": "stdout",
     "output_type": "stream",
     "text": [
      "value\n",
      "YN\n",
      "010-9876-5432\n",
      "02/04\n"
     ]
    }
   ],
   "source": [
    "for value in dic1.values() :\n",
    "    print(value)"
   ]
  },
  {
   "cell_type": "code",
   "execution_count": 41,
   "id": "33c889e8",
   "metadata": {},
   "outputs": [
    {
     "name": "stdout",
     "output_type": "stream",
     "text": [
      "('Key', 'value')\n",
      "('name', 'YN')\n",
      "('phone', '010-9876-5432')\n",
      "(0, '02/04')\n"
     ]
    }
   ],
   "source": [
    "for item in dic1.items() :\n",
    "    print(item)"
   ]
  },
  {
   "cell_type": "code",
   "execution_count": 42,
   "id": "dcddaa0c",
   "metadata": {},
   "outputs": [
    {
     "name": "stdout",
     "output_type": "stream",
     "text": [
      "Key value\n",
      "name YN\n",
      "phone 010-9876-5432\n",
      "0 02/04\n"
     ]
    }
   ],
   "source": [
    "for key,value in dic1.items() :\n",
    "    print(key,value)"
   ]
  },
  {
   "cell_type": "code",
   "execution_count": 43,
   "id": "08641a9f",
   "metadata": {},
   "outputs": [
    {
     "name": "stdout",
     "output_type": "stream",
     "text": [
      "True\n",
      "False\n"
     ]
    }
   ],
   "source": [
    "#딕셔너리 멤버연산자 활용\n",
    "#key값 in 딕셔너리명 ▷ 딕셔너리의 키에 한해서만 동작\n",
    "print(\"name\" in dic1)\n",
    "print(\"YN\" in dic1)"
   ]
  },
  {
   "cell_type": "code",
   "execution_count": 44,
   "id": "2b5e3eae",
   "metadata": {},
   "outputs": [
    {
     "data": {
      "text/plain": [
       "{}"
      ]
     },
     "execution_count": 44,
     "metadata": {},
     "output_type": "execute_result"
    }
   ],
   "source": [
    "#딕셔너리 모두 지우기\n",
    "dic1.clear()\n",
    "dic1"
   ]
  },
  {
   "cell_type": "code",
   "execution_count": null,
   "id": "0d3d6a27",
   "metadata": {},
   "outputs": [],
   "source": []
  },
  {
   "cell_type": "code",
   "execution_count": 71,
   "id": "d0735221",
   "metadata": {},
   "outputs": [
    {
     "data": {
      "text/plain": [
       "{'이름': ['임경남', '김은비', '송승호', '박원호', '김민수'],\n",
       " 'python': [90, 100, 85, 90, 80],\n",
       " 'java': [85, 80, 100, 95, 85],\n",
       " 'html/css': [75, 70, 90, 80, 90]}"
      ]
     },
     "execution_count": 71,
     "metadata": {},
     "output_type": "execute_result"
    }
   ],
   "source": [
    "score_dic = {'이름':['임경남','김은비','송승호','박원호','김민수'],'python':[90,100,85,90,80],'java':[85,80,100,95,85],'html/css':[75,70,90,80,90]}\n",
    "score_dic"
   ]
  },
  {
   "cell_type": "code",
   "execution_count": 55,
   "id": "d9f5e8db",
   "metadata": {},
   "outputs": [
    {
     "data": {
      "text/plain": [
       "int"
      ]
     },
     "execution_count": 55,
     "metadata": {},
     "output_type": "execute_result"
    }
   ],
   "source": [
    "type(score_dic.get('python')[0])"
   ]
  },
  {
   "cell_type": "code",
   "execution_count": 52,
   "id": "fdae5cb3",
   "metadata": {},
   "outputs": [
    {
     "name": "stdout",
     "output_type": "stream",
     "text": [
      "89.0\n"
     ]
    }
   ],
   "source": [
    "py_sum = 0\n",
    "for i in score_dic.get('python') :\n",
    "    py_sum += i\n",
    "py_avg = py_sum/len(score_dic.get('python'))\n",
    "print(py_avg)"
   ]
  },
  {
   "cell_type": "code",
   "execution_count": 61,
   "id": "70a4ab01",
   "metadata": {},
   "outputs": [
    {
     "name": "stdout",
     "output_type": "stream",
     "text": [
      "python 평균: 89.0\n",
      "java 평균: 89.0\n",
      "html/css 평균: 81.0\n"
     ]
    }
   ],
   "source": [
    "for i in score_dic.keys() :\n",
    "    total = avg = 0\n",
    "    if i != '이름' :\n",
    "        for j in score_dic.get(i) :\n",
    "            total += j\n",
    "        avg = total/len(score_dic.get(i))\n",
    "        print(f\"{i} 평균: {avg}\")"
   ]
  },
  {
   "cell_type": "code",
   "execution_count": 67,
   "id": "85ab5334",
   "metadata": {},
   "outputs": [
    {
     "name": "stdout",
     "output_type": "stream",
     "text": [
      "python 평균 : 89.0\n",
      "java 평균 : 89.0\n",
      "html/css 평균 : 81.0\n"
     ]
    }
   ],
   "source": [
    "score_avg = 0\n",
    "for key in score_dic.keys() :\n",
    "    if key != \"이름\" :\n",
    "        score_avg = sum(score_dic[key])/len(score_dic[key])\n",
    "        print(f\"{key} 평균 : {score_avg}\")"
   ]
  },
  {
   "cell_type": "code",
   "execution_count": 68,
   "id": "24029676",
   "metadata": {},
   "outputs": [
    {
     "data": {
      "text/plain": [
       "['이름', 'python', 'java', 'html/css']"
      ]
     },
     "execution_count": 68,
     "metadata": {},
     "output_type": "execute_result"
    }
   ],
   "source": [
    "list(score_dic.keys())"
   ]
  },
  {
   "cell_type": "code",
   "execution_count": 72,
   "id": "1a478d34",
   "metadata": {},
   "outputs": [
    {
     "data": {
      "text/plain": [
       "[['임경남', '김은비', '송승호', '박원호', '김민수'],\n",
       " [90, 100, 85, 90, 80],\n",
       " [85, 80, 100, 95, 85],\n",
       " [75, 70, 90, 80, 90]]"
      ]
     },
     "execution_count": 72,
     "metadata": {},
     "output_type": "execute_result"
    }
   ],
   "source": [
    "list(score_dic.values())"
   ]
  },
  {
   "cell_type": "code",
   "execution_count": 73,
   "id": "6818f8f3",
   "metadata": {},
   "outputs": [
    {
     "name": "stdout",
     "output_type": "stream",
     "text": [
      "89.0\n",
      "89.0\n",
      "81.0\n"
     ]
    }
   ],
   "source": [
    "s_avg = 0\n",
    "for value in list(score_dic.values())[1:] :\n",
    "    a_svg = sum(value)/len(value)\n",
    "    print(a_svg)"
   ]
  },
  {
   "cell_type": "code",
   "execution_count": null,
   "id": "15367e3f",
   "metadata": {},
   "outputs": [],
   "source": []
  },
  {
   "cell_type": "code",
   "execution_count": null,
   "id": "b8485385",
   "metadata": {},
   "outputs": [],
   "source": []
  },
  {
   "cell_type": "code",
   "execution_count": null,
   "id": "a9e222b3",
   "metadata": {},
   "outputs": [],
   "source": []
  }
 ],
 "metadata": {
  "kernelspec": {
   "display_name": "Python 3 (ipykernel)",
   "language": "python",
   "name": "python3"
  },
  "language_info": {
   "codemirror_mode": {
    "name": "ipython",
    "version": 3
   },
   "file_extension": ".py",
   "mimetype": "text/x-python",
   "name": "python",
   "nbconvert_exporter": "python",
   "pygments_lexer": "ipython3",
   "version": "3.11.4"
  }
 },
 "nbformat": 4,
 "nbformat_minor": 5
}
