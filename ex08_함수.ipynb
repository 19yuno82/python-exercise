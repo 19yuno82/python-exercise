{
 "cells": [
  {
   "cell_type": "markdown",
   "id": "b42734d8",
   "metadata": {},
   "source": [
    "### 함수(function)\n",
    "- 함수란?\n",
    "    - <b>호출</b>될 때 <b>특정 기능을 실행</b>하는 <b>재사용 가능</b>한 코드 블록\n",
    "- 함수의 목적\n",
    "    - 반복적인 프로그래밍을 피할 수 있음\n",
    "    - 모듈화로 인해 전체적인 코드의 가독성이 좋아짐(호출만 하면 되기 때문에)\n",
    "    - 프로그램에 문제가 발생하거나 기능의 변경이 필요할 때, 쉽게 유지보수가 가능"
   ]
  },
  {
   "cell_type": "code",
   "execution_count": 1,
   "id": "4028baad",
   "metadata": {},
   "outputs": [],
   "source": [
    "#함수 정의\n",
    "def num_sum(num1, num2) :\n",
    "    result = num1 + num2\n",
    "    return result"
   ]
  },
  {
   "cell_type": "code",
   "execution_count": 3,
   "id": "04702846",
   "metadata": {},
   "outputs": [
    {
     "data": {
      "text/plain": [
       "13"
      ]
     },
     "execution_count": 3,
     "metadata": {},
     "output_type": "execute_result"
    }
   ],
   "source": [
    "#함수 호출\n",
    "n1 = 3\n",
    "n2 = 10\n",
    "\n",
    "num_sum(n1,n2)"
   ]
  },
  {
   "cell_type": "code",
   "execution_count": 5,
   "id": "28553e49",
   "metadata": {},
   "outputs": [],
   "source": [
    "def num_sub(num1, num2) :\n",
    "    if num1 > num2 :\n",
    "        result = num1 - num2\n",
    "    else :\n",
    "        result = num2 - num1 \n",
    "    return result"
   ]
  },
  {
   "cell_type": "code",
   "execution_count": 12,
   "id": "2c73315a",
   "metadata": {},
   "outputs": [
    {
     "name": "stdout",
     "output_type": "stream",
     "text": [
      "첫번째 정수 입력 >>90\n",
      "두번째 정수 입력 >>12\n"
     ]
    },
    {
     "data": {
      "text/plain": [
       "78"
      ]
     },
     "execution_count": 12,
     "metadata": {},
     "output_type": "execute_result"
    }
   ],
   "source": [
    "num1 = int(input(\"첫번째 정수 입력 >>\"))\n",
    "num2 = int(input(\"두번째 정수 입력 >>\"))\n",
    "num_sub(num1,num2)"
   ]
  },
  {
   "cell_type": "code",
   "execution_count": 9,
   "id": "a653e5c8",
   "metadata": {},
   "outputs": [],
   "source": [
    "def s_replace(s) :\n",
    "    return s.replace('ㅋ','')"
   ]
  },
  {
   "cell_type": "code",
   "execution_count": 14,
   "id": "115be587",
   "metadata": {},
   "outputs": [
    {
     "name": "stdout",
     "output_type": "stream",
     "text": [
      "문자열 입력 >>ㅋㅋㅋ모두 지워주세요ㅋㅋㅋㅋㅋㅋ\n"
     ]
    },
    {
     "data": {
      "text/plain": [
       "'모두 지워주세요'"
      ]
     },
     "execution_count": 14,
     "metadata": {},
     "output_type": "execute_result"
    }
   ],
   "source": [
    "s= input(\"문자열 입력 >>\")\n",
    "s_replace(s)"
   ]
  },
  {
   "cell_type": "code",
   "execution_count": 19,
   "id": "6814d567",
   "metadata": {},
   "outputs": [],
   "source": [
    "#예제3 두 수를 입력받아서 원하는 연산을 수행하여 결과를 return하는 함수를 정의\n",
    "# def cal(n1,n2,op) :\n",
    "#     if op == '+' :\n",
    "#         return n1 + n2\n",
    "#     elif op == '-' :\n",
    "#         return abs(n1 - n2)\n",
    "#     elif op == '*' : \n",
    "#         return n1 * n2\n",
    "#     elif op == '/' :\n",
    "#         return n1 / n2\n",
    "#     else :\n",
    "#         return \"연산 기호를 잘못 입력하셨습니다.\""
   ]
  },
  {
   "cell_type": "code",
   "execution_count": 32,
   "id": "e643c0f2",
   "metadata": {},
   "outputs": [],
   "source": [
    "#예제3 딕셔너리로 풀이\n",
    "def cal1(n1,n2,op) :\n",
    "    \"\"\" 두 수를 입력받아서 원하는 연산을 수행하는 함수\"\"\" #독스트링\n",
    "    cal_dic = {'+':n1+n2, '-':abs(n1-n2), '*':n1*n2, '/':n1/n2}\n",
    "    return cal_dic.get(op)"
   ]
  },
  {
   "cell_type": "code",
   "execution_count": 35,
   "id": "00181846",
   "metadata": {},
   "outputs": [
    {
     "name": "stdout",
     "output_type": "stream",
     "text": [
      "첫번째 정수 입력 >> 1\n",
      "두번째 정수 입력 >> 2\n",
      "연산자 입력(+,-,*,/) >> +\n",
      "결과: 3\n"
     ]
    }
   ],
   "source": [
    "n1 = int(input(\"첫번째 정수 입력 >> \"))\n",
    "n2 = int(input(\"두번째 정수 입력 >> \"))\n",
    "op = input(\"연산자 입력(+,-,*,/) >> \")\n",
    "cal1()\n",
    "print(f\"결과: {cal1(n1,n2,op)}\")"
   ]
  },
  {
   "cell_type": "markdown",
   "id": "0a3ddd33",
   "metadata": {},
   "source": [
    "### 가변 매개변수(*)\n",
    "- 함수 호출 시 몇 개의 인수가 전달될 지 알 수 없다면, 사용자가 직접 매개변수의 개수를 정할 수 있도록 선언"
   ]
  },
  {
   "cell_type": "code",
   "execution_count": 37,
   "id": "2717887c",
   "metadata": {},
   "outputs": [],
   "source": [
    "def num_sum(*numbers) : #가변 매개변수는 함수 내부에서 \"튜플\"\n",
    "     return sum(numbers)"
   ]
  },
  {
   "cell_type": "code",
   "execution_count": 38,
   "id": "93892cdf",
   "metadata": {},
   "outputs": [
    {
     "data": {
      "text/plain": [
       "270"
      ]
     },
     "execution_count": 38,
     "metadata": {},
     "output_type": "execute_result"
    }
   ],
   "source": [
    "num_sum(1,2,34,5,65,6,67,90)"
   ]
  },
  {
   "cell_type": "markdown",
   "id": "fef0b5e9",
   "metadata": {},
   "source": [
    "### 키워드 가변 매개변수(**)\n",
    "- 함수 호출 시 몇 개의 인수가 전달될 지 알 수 없으면서, 함수 내부에서 \"딕셔너리\"형태로 사용하고자 하는 경우 선언"
   ]
  },
  {
   "cell_type": "code",
   "execution_count": 41,
   "id": "035e4579",
   "metadata": {},
   "outputs": [],
   "source": [
    "def print_map(**keyword) : #키워드 가변 매개변수는 함수 내부에서 \"딕셔너리\"\n",
    "    print(keyword)\n",
    "    for key, value in keyword.items() :\n",
    "        print(key,\"//\",value)"
   ]
  },
  {
   "cell_type": "code",
   "execution_count": 42,
   "id": "31c3bd87",
   "metadata": {},
   "outputs": [
    {
     "name": "stdout",
     "output_type": "stream",
     "text": [
      "{'one': 1, 'two': 2, 'three': 3}\n",
      "one // 1\n",
      "two // 2\n",
      "three // 3\n"
     ]
    }
   ],
   "source": [
    "print_map(one=1,two=2,three=3)"
   ]
  },
  {
   "cell_type": "code",
   "execution_count": null,
   "id": "8ccd65ec",
   "metadata": {},
   "outputs": [],
   "source": []
  },
  {
   "cell_type": "code",
   "execution_count": null,
   "id": "c1430637",
   "metadata": {},
   "outputs": [],
   "source": []
  }
 ],
 "metadata": {
  "kernelspec": {
   "display_name": "Python 3 (ipykernel)",
   "language": "python",
   "name": "python3"
  },
  "language_info": {
   "codemirror_mode": {
    "name": "ipython",
    "version": 3
   },
   "file_extension": ".py",
   "mimetype": "text/x-python",
   "name": "python",
   "nbconvert_exporter": "python",
   "pygments_lexer": "ipython3",
   "version": "3.11.4"
  }
 },
 "nbformat": 4,
 "nbformat_minor": 5
}
